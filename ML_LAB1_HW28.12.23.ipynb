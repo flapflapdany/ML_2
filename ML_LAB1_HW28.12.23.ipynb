{
 "cells": [
  {
   "cell_type": "markdown",
   "id": "799b15e6",
   "metadata": {},
   "source": [
    "# Airline Passenger Satisfaction\n",
    "__What factors lead to customer satisfaction for an Airline?__"
   ]
  },
  {
   "cell_type": "markdown",
   "id": "cdcdf682",
   "metadata": {},
   "source": [
    "__Задания:__\n",
    "\n",
    "0. Описать задачу словами\n",
    "1. Прочитать данные\n",
    "2. Визуализировать данные и вычислить основные характеристики (среднее, разброс, корреляционную матрицу и т.д.). Интерпретировать.\n",
    "3. Обработать пропущенные значения (или убедиться, что их нет)\n",
    "4. Обработать категориальные признаки\n",
    "5. Провести нормализацию (или объяснить, почему в вашем случае она не нужна)\n",
    "6. Разбить данные на обучающую и тестовую выборки\n",
    "7. Запустить классификатор (регрессию) ближайших соседей или другой (аргументировать свой выбор)\n",
    "8. Подобрать оптимальное значение к-ва ближайших соседей (или другого релевантного гиперпараметра) 9. Вычислить ошибки на обучающей и тестовой выборках. Сделать выводы \n",
    "10. По желанию: запустить другие классификаторы. Сравнить результаты\n",
    "11. По желанию: как-то побороться с несбалансированностью классов (если она есть)\n",
    "12. По желанию: исключить коррелированные переменные (объяснить зачем)\n",
    "13. Сделать общие выводы"
   ]
  },
  {
   "cell_type": "markdown",
   "id": "c89a1f6d",
   "metadata": {},
   "source": [
    "## 0. Описать задачу словами"
   ]
  },
  {
   "cell_type": "markdown",
   "id": "606007b8",
   "metadata": {},
   "source": [
    "Набор данных взят с Kaggle: https://www.kaggle.com/datasets/teejmahal20/airline-passenger-satisfaction/?select=test.csv\n",
    "\n",
    "Набор данных состоит из 103904 и 25976 записей в обучающем и тестовом режимах соответственно. \n",
    "Данный набор данных содержит опрос об удовлетворенности авиапассажиров. Он состоит из 25 столбцов, таких как «Возраст», «Пол», «Класс путешествия», «Задержки прибытия и отправления», а также функций, влияющих на уровень удовлетворенности клиентов, таких как «Обслуживание на борту», «Чистота», «Комфорт сиденья», «Обработка багажа» и т.д. \n",
    "Набор данных состоит из столбца или функция под названием «удовлетворение» , которая описывает общий уровень удовлетворенности клиента. Он имеет два значения: «нейтральный или неудовлетворенный» и «удовлетворенный».\n",
    "Этот признак удовлетворенности считается признаком маркировки, поскольку он передает общее впечатление клиента на основе оценок. \n",
    "\n",
    "Таким образом, поставлена задача __классификации__: необходимо предсказать к какому из двух уровней удовлетворённости относится пассажир:  __«нейтральный__ или __неудовлетворенный»__ и __«удовлетворенный»__."
   ]
  },
  {
   "cell_type": "markdown",
   "id": "b90c7ebd",
   "metadata": {},
   "source": [
    "Признаки.\n",
    "- __Gender__ - Пол. Бинарный признак. Типы: Female (Женский), Male (Мужской).\n",
    "- __Customer Type__ - Тип клиента. Бинарный признак. Типы: Loyal customer (Лояльный клиент) и Disloyal customer (Нелояльный клиент).\n",
    "- __Лояльный клиент__ - это клиент, лояльный к авиакомпании, то есть чаще предпочитающий пользоваться услугами данной авиакомпании нежели другой. Нелояльный - чаще пользующийся услугами другой компании.\n",
    "- __Age__ - Возраст. Количественный признак.\n",
    "- __Type of Travel__ - Цель полета пассажира. Бинарный признак. Типы: Personal Travel (Личная поездка), Business Travel (Деловая поездка).\n",
    "- __Class__ - Туристический класс, которым летит пассажир. Категориальный признак. Типы: Business (Бизнес), Eco (Эконом), Eco Plus (Эконом Плюс).\n",
    "- __Flight Distance__ - Расстояние полета. Количественный признак.\n",
    "- __Inflight wifi service__ - уровень удовлетворенности услугой Wi-Fi - от 1 до 5. Количественный признак.\n",
    "- __Departure/Arrival time convenient__ - Уровень удовлетворенности тем, насколько удобно было время отправления/прибытия. Количественный признак.\n",
    "- __Ease of Online booking__ - Уровень удовлетворенности простотой онлайн-бронирования. Количественный признак.\n",
    "- __Gate location__ - Уровень удовлетворенности расположением выходов. Количественный признак.\n",
    "- __Food and drink__ - Уровень удовлетворенности едой и напитками. Количественный признак.\n",
    "- __Online boarding__ - Уровень удовлетворенности онлайн регистрацией на рейс. Количественный признак.\n",
    "- __Seat comfort__ - Уровень удовлетворенности комфортабельностью кресел. Количественный признак.\n",
    "- __Inflight entertainment__ - Уровень удовлетворенности развлечениями во время полета. Количественный признак.\n",
    "- __On-board service__ - Уровень удовлетворенности услугами на борту. Количественный признак.\n",
    "- __Leg room service__ - Уровень удовлетворенности количеством места для ног. Количественный признак.\n",
    "-__Baggage handling__ - Уровень удовлетворенности услугами по транспортировке багажа. Количественный признак.\n",
    "-__Checkin service__ - Уровень удовлетворенности услугой регистрации на рейс. Количественный признак.\n",
    "- __Inflight service__ - Уровень удовлетворенности услугами во время полета. Количественный признак.\n",
    "- __Cleanliness__ - Уровень удовлетворенности чистотой. Количественный признак.\n",
    "- __Departure Delay in Minutes__ - Задержка отправления в минутах. Количественный признак.\n",
    "- __Arrival Delay in Minutes__ - Задержка прибытия в минутах. Количественный признак.\n",
    "- __Satisfaction__ - Уровень удовлетворенности. Бинарный признак. Типы: satisfaction, neutral or dissatisfied."
   ]
  },
  {
   "cell_type": "markdown",
   "id": "54862c18",
   "metadata": {},
   "source": [
    "##  Прочитать данные"
   ]
  },
  {
   "cell_type": "code",
   "execution_count": 17,
   "id": "25d2643c",
   "metadata": {},
   "outputs": [],
   "source": [
    "import numpy as np\n",
    "import matplotlib.pyplot as plt\n",
    "%matplotlib inline \n",
    "import pandas as pd\n",
    "import seaborn as sns\n",
    "import sklearn\n",
    "from sklearn.metrics import plot_confusion_matrix\n",
    "from sklearn.neighbors import KNeighborsClassifier\n",
    "from sklearn.model_selection import GridSearchCV\n",
    "from sklearn.neural_network import MLPClassifier\n",
    "from sklearn.metrics import accuracy_score\n",
    "import warningsS\n",
    "warnings.filterwarnings('ignore')\n",
    "from sklearn.metrics import accuracy_score, confusion_matrix, ConfusionMatrixDisplay\n",
    "from sklearn.model_selection import train_test_split"
   ]
  },
  {
   "cell_type": "code",
   "execution_count": 19,
   "id": "e03bc159",
   "metadata": {},
   "outputs": [],
   "source": [
    "data_train = pd.read_csv(\"https://github.com/flapflapdany/ML_2/blob/main/train.csv\")\n",
    "data_test = pd.read_csv(\"https://github.com/flaspflapdany/ML_2/blob/main/test.csv\")"
   ]
  },
  {
   "cell_type": "code",
   "execution_count": 20,
   "id": "96c2c63c",
   "metadata": {},
   "outputs": [],
   "source": [
    "data_raw = pd.concat([data_test, data_train])"
   ]
  },
  {
   "cell_type": "code",
   "execution_count": 21,
   "id": "c52adf28",
   "metadata": {},
   "outputs": [
    {
     "data": {
      "text/plain": [
       "(129880, 25)"
      ]
     },
     "execution_count": 21,
     "metadata": {},
     "output_type": "execute_result"
    }
   ],
   "source": [
    "data_raw.shape"
   ]
  },
  {
   "cell_type": "code",
   "execution_count": 22,
   "id": "371b927b",
   "metadata": {},
   "outputs": [
    {
     "data": {
      "text/plain": [
       "['Unnamed: 0',\n",
       " 'id',\n",
       " 'Gender',\n",
       " 'Customer Type',\n",
       " 'Age',\n",
       " 'Type of Travel',\n",
       " 'Class',\n",
       " 'Flight Distance',\n",
       " 'Inflight wifi service',\n",
       " 'Departure/Arrival time convenient',\n",
       " 'Ease of Online booking',\n",
       " 'Gate location',\n",
       " 'Food and drink',\n",
       " 'Online boarding',\n",
       " 'Seat comfort',\n",
       " 'Inflight entertainment',\n",
       " 'On-board service',\n",
       " 'Leg room service',\n",
       " 'Baggage handling',\n",
       " 'Checkin service',\n",
       " 'Inflight service',\n",
       " 'Cleanliness',\n",
       " 'Departure Delay in Minutes',\n",
       " 'Arrival Delay in Minutes',\n",
       " 'satisfaction']"
      ]
     },
     "execution_count": 22,
     "metadata": {},
     "output_type": "execute_result"
    }
   ],
   "source": [
    "data_raw.columns.tolist()"
   ]
  },
  {
   "cell_type": "code",
   "execution_count": 23,
   "id": "e3e164a5",
   "metadata": {},
   "outputs": [
    {
     "data": {
      "text/html": [
       "<div>\n",
       "<style scoped>\n",
       "    .dataframe tbody tr th:only-of-type {\n",
       "        vertical-align: middle;\n",
       "    }\n",
       "\n",
       "    .dataframe tbody tr th {\n",
       "        vertical-align: top;\n",
       "    }\n",
       "\n",
       "    .dataframe thead th {\n",
       "        text-align: right;\n",
       "    }\n",
       "</style>\n",
       "<table border=\"1\" class=\"dataframe\">\n",
       "  <thead>\n",
       "    <tr style=\"text-align: right;\">\n",
       "      <th></th>\n",
       "      <th>Unnamed: 0</th>\n",
       "      <th>id</th>\n",
       "      <th>Gender</th>\n",
       "      <th>Customer Type</th>\n",
       "      <th>Age</th>\n",
       "      <th>Type of Travel</th>\n",
       "      <th>Class</th>\n",
       "      <th>Flight Distance</th>\n",
       "      <th>Inflight wifi service</th>\n",
       "      <th>Departure/Arrival time convenient</th>\n",
       "      <th>...</th>\n",
       "      <th>Inflight entertainment</th>\n",
       "      <th>On-board service</th>\n",
       "      <th>Leg room service</th>\n",
       "      <th>Baggage handling</th>\n",
       "      <th>Checkin service</th>\n",
       "      <th>Inflight service</th>\n",
       "      <th>Cleanliness</th>\n",
       "      <th>Departure Delay in Minutes</th>\n",
       "      <th>Arrival Delay in Minutes</th>\n",
       "      <th>satisfaction</th>\n",
       "    </tr>\n",
       "  </thead>\n",
       "  <tbody>\n",
       "    <tr>\n",
       "      <th>0</th>\n",
       "      <td>0</td>\n",
       "      <td>19556</td>\n",
       "      <td>Female</td>\n",
       "      <td>Loyal Customer</td>\n",
       "      <td>52</td>\n",
       "      <td>Business travel</td>\n",
       "      <td>Eco</td>\n",
       "      <td>160</td>\n",
       "      <td>5</td>\n",
       "      <td>4</td>\n",
       "      <td>...</td>\n",
       "      <td>5</td>\n",
       "      <td>5</td>\n",
       "      <td>5</td>\n",
       "      <td>5</td>\n",
       "      <td>2</td>\n",
       "      <td>5</td>\n",
       "      <td>5</td>\n",
       "      <td>50</td>\n",
       "      <td>44.0</td>\n",
       "      <td>satisfied</td>\n",
       "    </tr>\n",
       "    <tr>\n",
       "      <th>1</th>\n",
       "      <td>1</td>\n",
       "      <td>90035</td>\n",
       "      <td>Female</td>\n",
       "      <td>Loyal Customer</td>\n",
       "      <td>36</td>\n",
       "      <td>Business travel</td>\n",
       "      <td>Business</td>\n",
       "      <td>2863</td>\n",
       "      <td>1</td>\n",
       "      <td>1</td>\n",
       "      <td>...</td>\n",
       "      <td>4</td>\n",
       "      <td>4</td>\n",
       "      <td>4</td>\n",
       "      <td>4</td>\n",
       "      <td>3</td>\n",
       "      <td>4</td>\n",
       "      <td>5</td>\n",
       "      <td>0</td>\n",
       "      <td>0.0</td>\n",
       "      <td>satisfied</td>\n",
       "    </tr>\n",
       "    <tr>\n",
       "      <th>2</th>\n",
       "      <td>2</td>\n",
       "      <td>12360</td>\n",
       "      <td>Male</td>\n",
       "      <td>disloyal Customer</td>\n",
       "      <td>20</td>\n",
       "      <td>Business travel</td>\n",
       "      <td>Eco</td>\n",
       "      <td>192</td>\n",
       "      <td>2</td>\n",
       "      <td>0</td>\n",
       "      <td>...</td>\n",
       "      <td>2</td>\n",
       "      <td>4</td>\n",
       "      <td>1</td>\n",
       "      <td>3</td>\n",
       "      <td>2</td>\n",
       "      <td>2</td>\n",
       "      <td>2</td>\n",
       "      <td>0</td>\n",
       "      <td>0.0</td>\n",
       "      <td>neutral or dissatisfied</td>\n",
       "    </tr>\n",
       "    <tr>\n",
       "      <th>3</th>\n",
       "      <td>3</td>\n",
       "      <td>77959</td>\n",
       "      <td>Male</td>\n",
       "      <td>Loyal Customer</td>\n",
       "      <td>44</td>\n",
       "      <td>Business travel</td>\n",
       "      <td>Business</td>\n",
       "      <td>3377</td>\n",
       "      <td>0</td>\n",
       "      <td>0</td>\n",
       "      <td>...</td>\n",
       "      <td>1</td>\n",
       "      <td>1</td>\n",
       "      <td>1</td>\n",
       "      <td>1</td>\n",
       "      <td>3</td>\n",
       "      <td>1</td>\n",
       "      <td>4</td>\n",
       "      <td>0</td>\n",
       "      <td>6.0</td>\n",
       "      <td>satisfied</td>\n",
       "    </tr>\n",
       "    <tr>\n",
       "      <th>4</th>\n",
       "      <td>4</td>\n",
       "      <td>36875</td>\n",
       "      <td>Female</td>\n",
       "      <td>Loyal Customer</td>\n",
       "      <td>49</td>\n",
       "      <td>Business travel</td>\n",
       "      <td>Eco</td>\n",
       "      <td>1182</td>\n",
       "      <td>2</td>\n",
       "      <td>3</td>\n",
       "      <td>...</td>\n",
       "      <td>2</td>\n",
       "      <td>2</td>\n",
       "      <td>2</td>\n",
       "      <td>2</td>\n",
       "      <td>4</td>\n",
       "      <td>2</td>\n",
       "      <td>4</td>\n",
       "      <td>0</td>\n",
       "      <td>20.0</td>\n",
       "      <td>satisfied</td>\n",
       "    </tr>\n",
       "    <tr>\n",
       "      <th>5</th>\n",
       "      <td>5</td>\n",
       "      <td>39177</td>\n",
       "      <td>Male</td>\n",
       "      <td>Loyal Customer</td>\n",
       "      <td>16</td>\n",
       "      <td>Business travel</td>\n",
       "      <td>Eco</td>\n",
       "      <td>311</td>\n",
       "      <td>3</td>\n",
       "      <td>3</td>\n",
       "      <td>...</td>\n",
       "      <td>5</td>\n",
       "      <td>4</td>\n",
       "      <td>3</td>\n",
       "      <td>1</td>\n",
       "      <td>1</td>\n",
       "      <td>2</td>\n",
       "      <td>5</td>\n",
       "      <td>0</td>\n",
       "      <td>0.0</td>\n",
       "      <td>satisfied</td>\n",
       "    </tr>\n",
       "    <tr>\n",
       "      <th>6</th>\n",
       "      <td>6</td>\n",
       "      <td>79433</td>\n",
       "      <td>Female</td>\n",
       "      <td>Loyal Customer</td>\n",
       "      <td>77</td>\n",
       "      <td>Business travel</td>\n",
       "      <td>Business</td>\n",
       "      <td>3987</td>\n",
       "      <td>5</td>\n",
       "      <td>5</td>\n",
       "      <td>...</td>\n",
       "      <td>5</td>\n",
       "      <td>5</td>\n",
       "      <td>5</td>\n",
       "      <td>5</td>\n",
       "      <td>4</td>\n",
       "      <td>5</td>\n",
       "      <td>3</td>\n",
       "      <td>0</td>\n",
       "      <td>0.0</td>\n",
       "      <td>satisfied</td>\n",
       "    </tr>\n",
       "    <tr>\n",
       "      <th>7</th>\n",
       "      <td>7</td>\n",
       "      <td>97286</td>\n",
       "      <td>Female</td>\n",
       "      <td>Loyal Customer</td>\n",
       "      <td>43</td>\n",
       "      <td>Business travel</td>\n",
       "      <td>Business</td>\n",
       "      <td>2556</td>\n",
       "      <td>2</td>\n",
       "      <td>2</td>\n",
       "      <td>...</td>\n",
       "      <td>4</td>\n",
       "      <td>4</td>\n",
       "      <td>4</td>\n",
       "      <td>4</td>\n",
       "      <td>5</td>\n",
       "      <td>4</td>\n",
       "      <td>3</td>\n",
       "      <td>77</td>\n",
       "      <td>65.0</td>\n",
       "      <td>satisfied</td>\n",
       "    </tr>\n",
       "    <tr>\n",
       "      <th>8</th>\n",
       "      <td>8</td>\n",
       "      <td>27508</td>\n",
       "      <td>Male</td>\n",
       "      <td>Loyal Customer</td>\n",
       "      <td>47</td>\n",
       "      <td>Business travel</td>\n",
       "      <td>Eco</td>\n",
       "      <td>556</td>\n",
       "      <td>5</td>\n",
       "      <td>2</td>\n",
       "      <td>...</td>\n",
       "      <td>5</td>\n",
       "      <td>2</td>\n",
       "      <td>2</td>\n",
       "      <td>5</td>\n",
       "      <td>3</td>\n",
       "      <td>3</td>\n",
       "      <td>5</td>\n",
       "      <td>1</td>\n",
       "      <td>0.0</td>\n",
       "      <td>satisfied</td>\n",
       "    </tr>\n",
       "    <tr>\n",
       "      <th>9</th>\n",
       "      <td>9</td>\n",
       "      <td>62482</td>\n",
       "      <td>Female</td>\n",
       "      <td>Loyal Customer</td>\n",
       "      <td>46</td>\n",
       "      <td>Business travel</td>\n",
       "      <td>Business</td>\n",
       "      <td>1744</td>\n",
       "      <td>2</td>\n",
       "      <td>2</td>\n",
       "      <td>...</td>\n",
       "      <td>4</td>\n",
       "      <td>4</td>\n",
       "      <td>4</td>\n",
       "      <td>4</td>\n",
       "      <td>5</td>\n",
       "      <td>4</td>\n",
       "      <td>4</td>\n",
       "      <td>28</td>\n",
       "      <td>14.0</td>\n",
       "      <td>satisfied</td>\n",
       "    </tr>\n",
       "  </tbody>\n",
       "</table>\n",
       "<p>10 rows × 25 columns</p>\n",
       "</div>"
      ],
      "text/plain": [
       "   Unnamed: 0     id  Gender      Customer Type  Age   Type of Travel  \\\n",
       "0           0  19556  Female     Loyal Customer   52  Business travel   \n",
       "1           1  90035  Female     Loyal Customer   36  Business travel   \n",
       "2           2  12360    Male  disloyal Customer   20  Business travel   \n",
       "3           3  77959    Male     Loyal Customer   44  Business travel   \n",
       "4           4  36875  Female     Loyal Customer   49  Business travel   \n",
       "5           5  39177    Male     Loyal Customer   16  Business travel   \n",
       "6           6  79433  Female     Loyal Customer   77  Business travel   \n",
       "7           7  97286  Female     Loyal Customer   43  Business travel   \n",
       "8           8  27508    Male     Loyal Customer   47  Business travel   \n",
       "9           9  62482  Female     Loyal Customer   46  Business travel   \n",
       "\n",
       "      Class  Flight Distance  Inflight wifi service  \\\n",
       "0       Eco              160                      5   \n",
       "1  Business             2863                      1   \n",
       "2       Eco              192                      2   \n",
       "3  Business             3377                      0   \n",
       "4       Eco             1182                      2   \n",
       "5       Eco              311                      3   \n",
       "6  Business             3987                      5   \n",
       "7  Business             2556                      2   \n",
       "8       Eco              556                      5   \n",
       "9  Business             1744                      2   \n",
       "\n",
       "   Departure/Arrival time convenient  ...  Inflight entertainment  \\\n",
       "0                                  4  ...                       5   \n",
       "1                                  1  ...                       4   \n",
       "2                                  0  ...                       2   \n",
       "3                                  0  ...                       1   \n",
       "4                                  3  ...                       2   \n",
       "5                                  3  ...                       5   \n",
       "6                                  5  ...                       5   \n",
       "7                                  2  ...                       4   \n",
       "8                                  2  ...                       5   \n",
       "9                                  2  ...                       4   \n",
       "\n",
       "   On-board service  Leg room service  Baggage handling  Checkin service  \\\n",
       "0                 5                 5                 5                2   \n",
       "1                 4                 4                 4                3   \n",
       "2                 4                 1                 3                2   \n",
       "3                 1                 1                 1                3   \n",
       "4                 2                 2                 2                4   \n",
       "5                 4                 3                 1                1   \n",
       "6                 5                 5                 5                4   \n",
       "7                 4                 4                 4                5   \n",
       "8                 2                 2                 5                3   \n",
       "9                 4                 4                 4                5   \n",
       "\n",
       "   Inflight service  Cleanliness  Departure Delay in Minutes  \\\n",
       "0                 5            5                          50   \n",
       "1                 4            5                           0   \n",
       "2                 2            2                           0   \n",
       "3                 1            4                           0   \n",
       "4                 2            4                           0   \n",
       "5                 2            5                           0   \n",
       "6                 5            3                           0   \n",
       "7                 4            3                          77   \n",
       "8                 3            5                           1   \n",
       "9                 4            4                          28   \n",
       "\n",
       "   Arrival Delay in Minutes             satisfaction  \n",
       "0                      44.0                satisfied  \n",
       "1                       0.0                satisfied  \n",
       "2                       0.0  neutral or dissatisfied  \n",
       "3                       6.0                satisfied  \n",
       "4                      20.0                satisfied  \n",
       "5                       0.0                satisfied  \n",
       "6                       0.0                satisfied  \n",
       "7                      65.0                satisfied  \n",
       "8                       0.0                satisfied  \n",
       "9                      14.0                satisfied  \n",
       "\n",
       "[10 rows x 25 columns]"
      ]
     },
     "execution_count": 23,
     "metadata": {},
     "output_type": "execute_result"
    }
   ],
   "source": [
    "data_raw.head(10) #Данные в начале"
   ]
  },
  {
   "cell_type": "code",
   "execution_count": 24,
   "id": "41bb3ba4",
   "metadata": {},
   "outputs": [
    {
     "data": {
      "text/html": [
       "<div>\n",
       "<style scoped>\n",
       "    .dataframe tbody tr th:only-of-type {\n",
       "        vertical-align: middle;\n",
       "    }\n",
       "\n",
       "    .dataframe tbody tr th {\n",
       "        vertical-align: top;\n",
       "    }\n",
       "\n",
       "    .dataframe thead th {\n",
       "        text-align: right;\n",
       "    }\n",
       "</style>\n",
       "<table border=\"1\" class=\"dataframe\">\n",
       "  <thead>\n",
       "    <tr style=\"text-align: right;\">\n",
       "      <th></th>\n",
       "      <th>Unnamed: 0</th>\n",
       "      <th>id</th>\n",
       "      <th>Gender</th>\n",
       "      <th>Customer Type</th>\n",
       "      <th>Age</th>\n",
       "      <th>Type of Travel</th>\n",
       "      <th>Class</th>\n",
       "      <th>Flight Distance</th>\n",
       "      <th>Inflight wifi service</th>\n",
       "      <th>Departure/Arrival time convenient</th>\n",
       "      <th>...</th>\n",
       "      <th>Inflight entertainment</th>\n",
       "      <th>On-board service</th>\n",
       "      <th>Leg room service</th>\n",
       "      <th>Baggage handling</th>\n",
       "      <th>Checkin service</th>\n",
       "      <th>Inflight service</th>\n",
       "      <th>Cleanliness</th>\n",
       "      <th>Departure Delay in Minutes</th>\n",
       "      <th>Arrival Delay in Minutes</th>\n",
       "      <th>satisfaction</th>\n",
       "    </tr>\n",
       "  </thead>\n",
       "  <tbody>\n",
       "    <tr>\n",
       "      <th>103894</th>\n",
       "      <td>103894</td>\n",
       "      <td>86549</td>\n",
       "      <td>Male</td>\n",
       "      <td>Loyal Customer</td>\n",
       "      <td>26</td>\n",
       "      <td>Business travel</td>\n",
       "      <td>Business</td>\n",
       "      <td>712</td>\n",
       "      <td>4</td>\n",
       "      <td>4</td>\n",
       "      <td>...</td>\n",
       "      <td>5</td>\n",
       "      <td>3</td>\n",
       "      <td>4</td>\n",
       "      <td>4</td>\n",
       "      <td>3</td>\n",
       "      <td>4</td>\n",
       "      <td>5</td>\n",
       "      <td>17</td>\n",
       "      <td>26.0</td>\n",
       "      <td>satisfied</td>\n",
       "    </tr>\n",
       "    <tr>\n",
       "      <th>103895</th>\n",
       "      <td>103895</td>\n",
       "      <td>66030</td>\n",
       "      <td>Female</td>\n",
       "      <td>disloyal Customer</td>\n",
       "      <td>24</td>\n",
       "      <td>Business travel</td>\n",
       "      <td>Eco</td>\n",
       "      <td>1055</td>\n",
       "      <td>1</td>\n",
       "      <td>1</td>\n",
       "      <td>...</td>\n",
       "      <td>1</td>\n",
       "      <td>3</td>\n",
       "      <td>3</td>\n",
       "      <td>5</td>\n",
       "      <td>5</td>\n",
       "      <td>4</td>\n",
       "      <td>1</td>\n",
       "      <td>13</td>\n",
       "      <td>10.0</td>\n",
       "      <td>neutral or dissatisfied</td>\n",
       "    </tr>\n",
       "    <tr>\n",
       "      <th>103896</th>\n",
       "      <td>103896</td>\n",
       "      <td>71445</td>\n",
       "      <td>Male</td>\n",
       "      <td>Loyal Customer</td>\n",
       "      <td>57</td>\n",
       "      <td>Business travel</td>\n",
       "      <td>Eco</td>\n",
       "      <td>867</td>\n",
       "      <td>4</td>\n",
       "      <td>5</td>\n",
       "      <td>...</td>\n",
       "      <td>4</td>\n",
       "      <td>3</td>\n",
       "      <td>4</td>\n",
       "      <td>3</td>\n",
       "      <td>1</td>\n",
       "      <td>3</td>\n",
       "      <td>4</td>\n",
       "      <td>0</td>\n",
       "      <td>0.0</td>\n",
       "      <td>neutral or dissatisfied</td>\n",
       "    </tr>\n",
       "    <tr>\n",
       "      <th>103897</th>\n",
       "      <td>103897</td>\n",
       "      <td>102203</td>\n",
       "      <td>Female</td>\n",
       "      <td>Loyal Customer</td>\n",
       "      <td>60</td>\n",
       "      <td>Business travel</td>\n",
       "      <td>Business</td>\n",
       "      <td>1599</td>\n",
       "      <td>5</td>\n",
       "      <td>5</td>\n",
       "      <td>...</td>\n",
       "      <td>4</td>\n",
       "      <td>4</td>\n",
       "      <td>4</td>\n",
       "      <td>4</td>\n",
       "      <td>4</td>\n",
       "      <td>4</td>\n",
       "      <td>4</td>\n",
       "      <td>9</td>\n",
       "      <td>7.0</td>\n",
       "      <td>satisfied</td>\n",
       "    </tr>\n",
       "    <tr>\n",
       "      <th>103898</th>\n",
       "      <td>103898</td>\n",
       "      <td>60666</td>\n",
       "      <td>Male</td>\n",
       "      <td>Loyal Customer</td>\n",
       "      <td>50</td>\n",
       "      <td>Personal Travel</td>\n",
       "      <td>Eco</td>\n",
       "      <td>1620</td>\n",
       "      <td>3</td>\n",
       "      <td>1</td>\n",
       "      <td>...</td>\n",
       "      <td>2</td>\n",
       "      <td>4</td>\n",
       "      <td>3</td>\n",
       "      <td>4</td>\n",
       "      <td>2</td>\n",
       "      <td>4</td>\n",
       "      <td>2</td>\n",
       "      <td>0</td>\n",
       "      <td>0.0</td>\n",
       "      <td>neutral or dissatisfied</td>\n",
       "    </tr>\n",
       "    <tr>\n",
       "      <th>103899</th>\n",
       "      <td>103899</td>\n",
       "      <td>94171</td>\n",
       "      <td>Female</td>\n",
       "      <td>disloyal Customer</td>\n",
       "      <td>23</td>\n",
       "      <td>Business travel</td>\n",
       "      <td>Eco</td>\n",
       "      <td>192</td>\n",
       "      <td>2</td>\n",
       "      <td>1</td>\n",
       "      <td>...</td>\n",
       "      <td>2</td>\n",
       "      <td>3</td>\n",
       "      <td>1</td>\n",
       "      <td>4</td>\n",
       "      <td>2</td>\n",
       "      <td>3</td>\n",
       "      <td>2</td>\n",
       "      <td>3</td>\n",
       "      <td>0.0</td>\n",
       "      <td>neutral or dissatisfied</td>\n",
       "    </tr>\n",
       "    <tr>\n",
       "      <th>103900</th>\n",
       "      <td>103900</td>\n",
       "      <td>73097</td>\n",
       "      <td>Male</td>\n",
       "      <td>Loyal Customer</td>\n",
       "      <td>49</td>\n",
       "      <td>Business travel</td>\n",
       "      <td>Business</td>\n",
       "      <td>2347</td>\n",
       "      <td>4</td>\n",
       "      <td>4</td>\n",
       "      <td>...</td>\n",
       "      <td>5</td>\n",
       "      <td>5</td>\n",
       "      <td>5</td>\n",
       "      <td>5</td>\n",
       "      <td>5</td>\n",
       "      <td>5</td>\n",
       "      <td>4</td>\n",
       "      <td>0</td>\n",
       "      <td>0.0</td>\n",
       "      <td>satisfied</td>\n",
       "    </tr>\n",
       "    <tr>\n",
       "      <th>103901</th>\n",
       "      <td>103901</td>\n",
       "      <td>68825</td>\n",
       "      <td>Male</td>\n",
       "      <td>disloyal Customer</td>\n",
       "      <td>30</td>\n",
       "      <td>Business travel</td>\n",
       "      <td>Business</td>\n",
       "      <td>1995</td>\n",
       "      <td>1</td>\n",
       "      <td>1</td>\n",
       "      <td>...</td>\n",
       "      <td>4</td>\n",
       "      <td>3</td>\n",
       "      <td>2</td>\n",
       "      <td>4</td>\n",
       "      <td>5</td>\n",
       "      <td>5</td>\n",
       "      <td>4</td>\n",
       "      <td>7</td>\n",
       "      <td>14.0</td>\n",
       "      <td>neutral or dissatisfied</td>\n",
       "    </tr>\n",
       "    <tr>\n",
       "      <th>103902</th>\n",
       "      <td>103902</td>\n",
       "      <td>54173</td>\n",
       "      <td>Female</td>\n",
       "      <td>disloyal Customer</td>\n",
       "      <td>22</td>\n",
       "      <td>Business travel</td>\n",
       "      <td>Eco</td>\n",
       "      <td>1000</td>\n",
       "      <td>1</td>\n",
       "      <td>1</td>\n",
       "      <td>...</td>\n",
       "      <td>1</td>\n",
       "      <td>4</td>\n",
       "      <td>5</td>\n",
       "      <td>1</td>\n",
       "      <td>5</td>\n",
       "      <td>4</td>\n",
       "      <td>1</td>\n",
       "      <td>0</td>\n",
       "      <td>0.0</td>\n",
       "      <td>neutral or dissatisfied</td>\n",
       "    </tr>\n",
       "    <tr>\n",
       "      <th>103903</th>\n",
       "      <td>103903</td>\n",
       "      <td>62567</td>\n",
       "      <td>Male</td>\n",
       "      <td>Loyal Customer</td>\n",
       "      <td>27</td>\n",
       "      <td>Business travel</td>\n",
       "      <td>Business</td>\n",
       "      <td>1723</td>\n",
       "      <td>1</td>\n",
       "      <td>3</td>\n",
       "      <td>...</td>\n",
       "      <td>1</td>\n",
       "      <td>1</td>\n",
       "      <td>1</td>\n",
       "      <td>4</td>\n",
       "      <td>4</td>\n",
       "      <td>3</td>\n",
       "      <td>1</td>\n",
       "      <td>0</td>\n",
       "      <td>0.0</td>\n",
       "      <td>neutral or dissatisfied</td>\n",
       "    </tr>\n",
       "  </tbody>\n",
       "</table>\n",
       "<p>10 rows × 25 columns</p>\n",
       "</div>"
      ],
      "text/plain": [
       "        Unnamed: 0      id  Gender      Customer Type  Age   Type of Travel  \\\n",
       "103894      103894   86549    Male     Loyal Customer   26  Business travel   \n",
       "103895      103895   66030  Female  disloyal Customer   24  Business travel   \n",
       "103896      103896   71445    Male     Loyal Customer   57  Business travel   \n",
       "103897      103897  102203  Female     Loyal Customer   60  Business travel   \n",
       "103898      103898   60666    Male     Loyal Customer   50  Personal Travel   \n",
       "103899      103899   94171  Female  disloyal Customer   23  Business travel   \n",
       "103900      103900   73097    Male     Loyal Customer   49  Business travel   \n",
       "103901      103901   68825    Male  disloyal Customer   30  Business travel   \n",
       "103902      103902   54173  Female  disloyal Customer   22  Business travel   \n",
       "103903      103903   62567    Male     Loyal Customer   27  Business travel   \n",
       "\n",
       "           Class  Flight Distance  Inflight wifi service  \\\n",
       "103894  Business              712                      4   \n",
       "103895       Eco             1055                      1   \n",
       "103896       Eco              867                      4   \n",
       "103897  Business             1599                      5   \n",
       "103898       Eco             1620                      3   \n",
       "103899       Eco              192                      2   \n",
       "103900  Business             2347                      4   \n",
       "103901  Business             1995                      1   \n",
       "103902       Eco             1000                      1   \n",
       "103903  Business             1723                      1   \n",
       "\n",
       "        Departure/Arrival time convenient  ...  Inflight entertainment  \\\n",
       "103894                                  4  ...                       5   \n",
       "103895                                  1  ...                       1   \n",
       "103896                                  5  ...                       4   \n",
       "103897                                  5  ...                       4   \n",
       "103898                                  1  ...                       2   \n",
       "103899                                  1  ...                       2   \n",
       "103900                                  4  ...                       5   \n",
       "103901                                  1  ...                       4   \n",
       "103902                                  1  ...                       1   \n",
       "103903                                  3  ...                       1   \n",
       "\n",
       "        On-board service  Leg room service  Baggage handling  Checkin service  \\\n",
       "103894                 3                 4                 4                3   \n",
       "103895                 3                 3                 5                5   \n",
       "103896                 3                 4                 3                1   \n",
       "103897                 4                 4                 4                4   \n",
       "103898                 4                 3                 4                2   \n",
       "103899                 3                 1                 4                2   \n",
       "103900                 5                 5                 5                5   \n",
       "103901                 3                 2                 4                5   \n",
       "103902                 4                 5                 1                5   \n",
       "103903                 1                 1                 4                4   \n",
       "\n",
       "        Inflight service  Cleanliness  Departure Delay in Minutes  \\\n",
       "103894                 4            5                          17   \n",
       "103895                 4            1                          13   \n",
       "103896                 3            4                           0   \n",
       "103897                 4            4                           9   \n",
       "103898                 4            2                           0   \n",
       "103899                 3            2                           3   \n",
       "103900                 5            4                           0   \n",
       "103901                 5            4                           7   \n",
       "103902                 4            1                           0   \n",
       "103903                 3            1                           0   \n",
       "\n",
       "        Arrival Delay in Minutes             satisfaction  \n",
       "103894                      26.0                satisfied  \n",
       "103895                      10.0  neutral or dissatisfied  \n",
       "103896                       0.0  neutral or dissatisfied  \n",
       "103897                       7.0                satisfied  \n",
       "103898                       0.0  neutral or dissatisfied  \n",
       "103899                       0.0  neutral or dissatisfied  \n",
       "103900                       0.0                satisfied  \n",
       "103901                      14.0  neutral or dissatisfied  \n",
       "103902                       0.0  neutral or dissatisfied  \n",
       "103903                       0.0  neutral or dissatisfied  \n",
       "\n",
       "[10 rows x 25 columns]"
      ]
     },
     "execution_count": 24,
     "metadata": {},
     "output_type": "execute_result"
    }
   ],
   "source": [
    "data_raw.tail(10) #Данные в конце"
   ]
  },
  {
   "cell_type": "code",
   "execution_count": 25,
   "id": "19e9807f",
   "metadata": {},
   "outputs": [
    {
     "name": "stdout",
     "output_type": "stream",
     "text": [
      "<class 'pandas.core.frame.DataFrame'>\n",
      "Int64Index: 129880 entries, 0 to 103903\n",
      "Data columns (total 25 columns):\n",
      " #   Column                             Non-Null Count   Dtype  \n",
      "---  ------                             --------------   -----  \n",
      " 0   Unnamed: 0                         129880 non-null  int64  \n",
      " 1   id                                 129880 non-null  int64  \n",
      " 2   Gender                             129880 non-null  object \n",
      " 3   Customer Type                      129880 non-null  object \n",
      " 4   Age                                129880 non-null  int64  \n",
      " 5   Type of Travel                     129880 non-null  object \n",
      " 6   Class                              129880 non-null  object \n",
      " 7   Flight Distance                    129880 non-null  int64  \n",
      " 8   Inflight wifi service              129880 non-null  int64  \n",
      " 9   Departure/Arrival time convenient  129880 non-null  int64  \n",
      " 10  Ease of Online booking             129880 non-null  int64  \n",
      " 11  Gate location                      129880 non-null  int64  \n",
      " 12  Food and drink                     129880 non-null  int64  \n",
      " 13  Online boarding                    129880 non-null  int64  \n",
      " 14  Seat comfort                       129880 non-null  int64  \n",
      " 15  Inflight entertainment             129880 non-null  int64  \n",
      " 16  On-board service                   129880 non-null  int64  \n",
      " 17  Leg room service                   129880 non-null  int64  \n",
      " 18  Baggage handling                   129880 non-null  int64  \n",
      " 19  Checkin service                    129880 non-null  int64  \n",
      " 20  Inflight service                   129880 non-null  int64  \n",
      " 21  Cleanliness                        129880 non-null  int64  \n",
      " 22  Departure Delay in Minutes         129880 non-null  int64  \n",
      " 23  Arrival Delay in Minutes           129487 non-null  float64\n",
      " 24  satisfaction                       129880 non-null  object \n",
      "dtypes: float64(1), int64(19), object(5)\n",
      "memory usage: 25.8+ MB\n"
     ]
    }
   ],
   "source": [
    "data_raw.info() # Выведем информацию в более читаемом виде"
   ]
  },
  {
   "cell_type": "markdown",
   "id": "0b609a76",
   "metadata": {},
   "source": [
    "__Вывод:__ Имеются пропущенные значения. В столбце \"Arrival Delay in Minutes\" пропущено 393 значений.\n",
    "Признаки  \"Unnamed\" и \"id\" не несут полезной информации и от них стоит избавиться."
   ]
  },
  {
   "cell_type": "code",
   "execution_count": 26,
   "id": "23b68e2b",
   "metadata": {},
   "outputs": [],
   "source": [
    "data_raw = data_raw.drop(['Unnamed: 0', 'id'], axis = 1)"
   ]
  },
  {
   "cell_type": "markdown",
   "id": "bab0f896",
   "metadata": {},
   "source": [
    "Столбцы 'Gender', 'Customer Type', 'Type of Travel', 'Class', 'satisfaction' содержат категориальные признаки. Необходимо заменить их тип 'Object' на специальный, предназначенный для хранения категориальных значений\n",
    "\n"
   ]
  },
  {
   "cell_type": "code",
   "execution_count": 27,
   "id": "0917dbbb",
   "metadata": {},
   "outputs": [],
   "source": [
    "data_raw['Gender'] = data_raw['Gender'].astype('category')\n",
    "data_raw['Customer Type'] = data_raw['Customer Type'].astype('category')\n",
    "data_raw['Type of Travel'] = data_raw['Type of Travel'].astype('category')\n",
    "data_raw['Class'] = data_raw['Class'].astype('category')\n",
    "\n",
    "# data_raw['Inflight wifi service'] = data_raw['Inflight wifi service'].astype('category')\n",
    "# data_raw['Food and drink'] = data_raw['Food and drink'].astype('category')\n",
    "# data_raw['Checkin service'] = data_raw['Checkin service'].astype('category')\n",
    "# data_raw['Cleanliness'] = data_raw['Cleanliness'].astype('category')\n",
    "\n",
    "data_raw.iloc[:,list(range(6, 20))] = data_raw.iloc[:,list(range(6, 20))].astype('category')"
   ]
  },
  {
   "cell_type": "code",
   "execution_count": 28,
   "id": "bf3dcd02",
   "metadata": {},
   "outputs": [
    {
     "name": "stdout",
     "output_type": "stream",
     "text": [
      "<class 'pandas.core.frame.DataFrame'>\n",
      "Int64Index: 129880 entries, 0 to 103903\n",
      "Data columns (total 23 columns):\n",
      " #   Column                             Non-Null Count   Dtype   \n",
      "---  ------                             --------------   -----   \n",
      " 0   Gender                             129880 non-null  category\n",
      " 1   Customer Type                      129880 non-null  category\n",
      " 2   Age                                129880 non-null  int64   \n",
      " 3   Type of Travel                     129880 non-null  category\n",
      " 4   Class                              129880 non-null  category\n",
      " 5   Flight Distance                    129880 non-null  int64   \n",
      " 6   Inflight wifi service              129880 non-null  category\n",
      " 7   Departure/Arrival time convenient  129880 non-null  category\n",
      " 8   Ease of Online booking             129880 non-null  category\n",
      " 9   Gate location                      129880 non-null  category\n",
      " 10  Food and drink                     129880 non-null  category\n",
      " 11  Online boarding                    129880 non-null  category\n",
      " 12  Seat comfort                       129880 non-null  category\n",
      " 13  Inflight entertainment             129880 non-null  category\n",
      " 14  On-board service                   129880 non-null  category\n",
      " 15  Leg room service                   129880 non-null  category\n",
      " 16  Baggage handling                   129880 non-null  category\n",
      " 17  Checkin service                    129880 non-null  category\n",
      " 18  Inflight service                   129880 non-null  category\n",
      " 19  Cleanliness                        129880 non-null  category\n",
      " 20  Departure Delay in Minutes         129880 non-null  int64   \n",
      " 21  Arrival Delay in Minutes           129487 non-null  float64 \n",
      " 22  satisfaction                       129880 non-null  object  \n",
      "dtypes: category(18), float64(1), int64(3), object(1)\n",
      "memory usage: 8.2+ MB\n"
     ]
    }
   ],
   "source": [
    "data_raw.info()"
   ]
  },
  {
   "cell_type": "markdown",
   "id": "347e837b",
   "metadata": {},
   "source": [
    "Приведем описание следующей таблице:\n",
    "- count - количество значений для каждого признака;\n",
    "- min/max - минимальное / макcимальное значение;\n",
    "- mean - среднее значение;\n",
    "- std - стандартное отклонение;  \n",
    "- 25% - первый квартиль; \n",
    "- 50% - второй квартиль; \n",
    "- 75% - третий квартиль. "
   ]
  },
  {
   "cell_type": "code",
   "execution_count": 29,
   "id": "015365d0",
   "metadata": {},
   "outputs": [
    {
     "data": {
      "text/html": [
       "<div>\n",
       "<style scoped>\n",
       "    .dataframe tbody tr th:only-of-type {\n",
       "        vertical-align: middle;\n",
       "    }\n",
       "\n",
       "    .dataframe tbody tr th {\n",
       "        vertical-align: top;\n",
       "    }\n",
       "\n",
       "    .dataframe thead th {\n",
       "        text-align: right;\n",
       "    }\n",
       "</style>\n",
       "<table border=\"1\" class=\"dataframe\">\n",
       "  <thead>\n",
       "    <tr style=\"text-align: right;\">\n",
       "      <th></th>\n",
       "      <th>Age</th>\n",
       "      <th>Flight Distance</th>\n",
       "      <th>Departure Delay in Minutes</th>\n",
       "      <th>Arrival Delay in Minutes</th>\n",
       "    </tr>\n",
       "  </thead>\n",
       "  <tbody>\n",
       "    <tr>\n",
       "      <th>count</th>\n",
       "      <td>129880.000000</td>\n",
       "      <td>129880.000000</td>\n",
       "      <td>129880.000000</td>\n",
       "      <td>129487.000000</td>\n",
       "    </tr>\n",
       "    <tr>\n",
       "      <th>mean</th>\n",
       "      <td>39.427957</td>\n",
       "      <td>1190.316392</td>\n",
       "      <td>14.713713</td>\n",
       "      <td>15.091129</td>\n",
       "    </tr>\n",
       "    <tr>\n",
       "      <th>std</th>\n",
       "      <td>15.119360</td>\n",
       "      <td>997.452477</td>\n",
       "      <td>38.071126</td>\n",
       "      <td>38.465650</td>\n",
       "    </tr>\n",
       "    <tr>\n",
       "      <th>min</th>\n",
       "      <td>7.000000</td>\n",
       "      <td>31.000000</td>\n",
       "      <td>0.000000</td>\n",
       "      <td>0.000000</td>\n",
       "    </tr>\n",
       "    <tr>\n",
       "      <th>25%</th>\n",
       "      <td>27.000000</td>\n",
       "      <td>414.000000</td>\n",
       "      <td>0.000000</td>\n",
       "      <td>0.000000</td>\n",
       "    </tr>\n",
       "    <tr>\n",
       "      <th>50%</th>\n",
       "      <td>40.000000</td>\n",
       "      <td>844.000000</td>\n",
       "      <td>0.000000</td>\n",
       "      <td>0.000000</td>\n",
       "    </tr>\n",
       "    <tr>\n",
       "      <th>75%</th>\n",
       "      <td>51.000000</td>\n",
       "      <td>1744.000000</td>\n",
       "      <td>12.000000</td>\n",
       "      <td>13.000000</td>\n",
       "    </tr>\n",
       "    <tr>\n",
       "      <th>max</th>\n",
       "      <td>85.000000</td>\n",
       "      <td>4983.000000</td>\n",
       "      <td>1592.000000</td>\n",
       "      <td>1584.000000</td>\n",
       "    </tr>\n",
       "  </tbody>\n",
       "</table>\n",
       "</div>"
      ],
      "text/plain": [
       "                 Age  Flight Distance  Departure Delay in Minutes  \\\n",
       "count  129880.000000    129880.000000               129880.000000   \n",
       "mean       39.427957      1190.316392                   14.713713   \n",
       "std        15.119360       997.452477                   38.071126   \n",
       "min         7.000000        31.000000                    0.000000   \n",
       "25%        27.000000       414.000000                    0.000000   \n",
       "50%        40.000000       844.000000                    0.000000   \n",
       "75%        51.000000      1744.000000                   12.000000   \n",
       "max        85.000000      4983.000000                 1592.000000   \n",
       "\n",
       "       Arrival Delay in Minutes  \n",
       "count             129487.000000  \n",
       "mean                  15.091129  \n",
       "std                   38.465650  \n",
       "min                    0.000000  \n",
       "25%                    0.000000  \n",
       "50%                    0.000000  \n",
       "75%                   13.000000  \n",
       "max                 1584.000000  "
      ]
     },
     "execution_count": 29,
     "metadata": {},
     "output_type": "execute_result"
    }
   ],
   "source": [
    "data_raw.describe()"
   ]
  },
  {
   "cell_type": "markdown",
   "id": "d08c5ce3",
   "metadata": {},
   "source": [
    "Проверим на сбалансированность:"
   ]
  },
  {
   "cell_type": "code",
   "execution_count": 30,
   "id": "21699802",
   "metadata": {},
   "outputs": [
    {
     "data": {
      "image/png": "[encoded data removed]",
      "text/plain": [
       "<Figure size 360x360 with 1 Axes>"
      ]
     },
     "metadata": {
      "needs_background": "light"
     },
     "output_type": "display_data"
    }
   ],
   "source": [
    "fig = plt.figure(figsize = (5, 5))\n",
    "data_raw.satisfaction.value_counts(normalize = True).plot(kind='bar', color= ['darkorange','steelblue'], alpha = 0.9, rot=0)\n",
    "plt.title('Индикатор удовлетворенности в наборе данных')\n",
    "plt.show()"
   ]
  },
  {
   "cell_type": "code",
   "execution_count": 31,
   "id": "368f137c",
   "metadata": {},
   "outputs": [
    {
     "data": {
      "image/png": "[encoded data removed]",
      "text/plain": [
       "<Figure size 828x180 with 2 Axes>"
      ]
     },
     "metadata": {},
     "output_type": "display_data"
    }
   ],
   "source": [
    "with sns.axes_style(style='ticks'):\n",
    "     sns.catplot(\"satisfaction\", col=\"Gender\", col_wrap=2, data=data_raw, kind=\"count\", height=2.5, aspect=2.3)  "
   ]
  },
  {
   "cell_type": "markdown",
   "id": "d8927616",
   "metadata": {},
   "source": [
    "__Вывод:__ гендерное распределение нейтральных/неудовлетворенных и удовлетворенных клиентов схоже. Как для пассажиров мужского, так и для женского пола количество нейтральных/неудовлетворенных клиентов выше по сравнению с количеством довольных клиентов."
   ]
  },
  {
   "cell_type": "code",
   "execution_count": 32,
   "id": "4ce0f720",
   "metadata": {},
   "outputs": [
    {
     "data": {
      "text/plain": [
       "<seaborn.axisgrid.FacetGrid at 0x2125accfca0>"
      ]
     },
     "execution_count": 32,
     "metadata": {},
     "output_type": "execute_result"
    },
    {
     "data": {
      "image/png": "[encoded data removed]",
      "text/plain": [
       "<Figure size 828x180 with 2 Axes>"
      ]
     },
     "metadata": {
      "needs_background": "light"
     },
     "output_type": "display_data"
    }
   ],
   "source": [
    "sns.catplot(\"satisfaction\", col=\"Customer Type\", col_wrap=2, data=data_raw, kind=\"count\", height=2.5, aspect=2.3)"
   ]
  },
  {
   "cell_type": "markdown",
   "id": "adafe3e6",
   "metadata": {},
   "source": [
    "__Вывод:__ Cреди лояльных пассажиров, которых много, соотношение довольных и нейтрально/недовольных почти близко"
   ]
  },
  {
   "cell_type": "code",
   "execution_count": 33,
   "id": "fbf84151",
   "metadata": {},
   "outputs": [
    {
     "data": {
      "text/plain": [
       "<seaborn.axisgrid.FacetGrid at 0x21262f12c70>"
      ]
     },
     "execution_count": 33,
     "metadata": {},
     "output_type": "execute_result"
    },
    {
     "data": {
      "image/png": "[encoded data removed]",
      "text/plain": [
       "<Figure size 922.725x324 with 3 Axes>"
      ]
     },
     "metadata": {
      "needs_background": "light"
     },
     "output_type": "display_data"
    }
   ],
   "source": [
    "sns.catplot(x=\"Flight Distance\", y=\"Type of Travel\", hue=\"satisfaction\", col=\"Class\", data=data_raw, kind=\"bar\", height=4.5, aspect=.8)"
   ]
  },
  {
   "cell_type": "markdown",
   "id": "58826627",
   "metadata": {},
   "source": [
    "__Вывод:__ При  поездках в категории бизнес-класса количество довольных пассажиров выше при больших расстояние полета. Для остальных комбинаций наблюдается почти равное распределение довольных и нейтрально/неудовлетворенных пассажиров."
   ]
  },
  {
   "cell_type": "code",
   "execution_count": 34,
   "id": "65145d2d",
   "metadata": {},
   "outputs": [
    {
     "data": {
      "text/plain": [
       "<seaborn.axisgrid.FacetGrid at 0x212624d1490>"
      ]
     },
     "execution_count": 34,
     "metadata": {},
     "output_type": "execute_result"
    },
    {
     "data": {
      "image/png": "[encoded data removed]",
      "text/plain": [
       "<Figure size 1225.12x360 with 1 Axes>"
      ]
     },
     "metadata": {
      "needs_background": "light"
     },
     "output_type": "display_data"
    }
   ],
   "source": [
    "sns.catplot(\"Age\", data=data_raw, aspect=3.0, kind='count', hue=\"satisfaction\", order=range(6, 80)).set_ylabels('Age/Passenger Satisfaction')"
   ]
  },
  {
   "cell_type": "markdown",
   "id": "7dbff5c5",
   "metadata": {},
   "source": [
    "__Вывод:__ В возрасте от 7 до 38 лет и от 61 до 79 лет количество нейтральных/неудовлетворенных пассажиров очень велико по сравнению с удовлетворенными пассажирами. С другой стороны, в возрастной группе 39–60 лет количество довольных пассажиров выше по сравнению с нейтральными/недовольными пассажирами."
   ]
  },
  {
   "cell_type": "markdown",
   "id": "7148009f",
   "metadata": {},
   "source": [
    "## Обработать пропущенные значения\n",
    "Было выяснено, что пропущенно 393 значений в 'Arrival Delay in Minutes'.\n",
    "Убедимся в этом еще раз:"
   ]
  },
  {
   "cell_type": "code",
   "execution_count": 35,
   "id": "cfe7cad7",
   "metadata": {
    "scrolled": true
   },
   "outputs": [
    {
     "data": {
      "text/html": [
       "<div>\n",
       "<style scoped>\n",
       "    .dataframe tbody tr th:only-of-type {\n",
       "        vertical-align: middle;\n",
       "    }\n",
       "\n",
       "    .dataframe tbody tr th {\n",
       "        vertical-align: top;\n",
       "    }\n",
       "\n",
       "    .dataframe thead th {\n",
       "        text-align: right;\n",
       "    }\n",
       "</style>\n",
       "<table border=\"1\" class=\"dataframe\">\n",
       "  <thead>\n",
       "    <tr style=\"text-align: right;\">\n",
       "      <th></th>\n",
       "      <th>Total</th>\n",
       "      <th>Percent</th>\n",
       "    </tr>\n",
       "  </thead>\n",
       "  <tbody>\n",
       "    <tr>\n",
       "      <th>Arrival Delay in Minutes</th>\n",
       "      <td>393</td>\n",
       "      <td>0.003026</td>\n",
       "    </tr>\n",
       "    <tr>\n",
       "      <th>Gender</th>\n",
       "      <td>0</td>\n",
       "      <td>0.000000</td>\n",
       "    </tr>\n",
       "    <tr>\n",
       "      <th>Seat comfort</th>\n",
       "      <td>0</td>\n",
       "      <td>0.000000</td>\n",
       "    </tr>\n",
       "    <tr>\n",
       "      <th>Departure Delay in Minutes</th>\n",
       "      <td>0</td>\n",
       "      <td>0.000000</td>\n",
       "    </tr>\n",
       "    <tr>\n",
       "      <th>Cleanliness</th>\n",
       "      <td>0</td>\n",
       "      <td>0.000000</td>\n",
       "    </tr>\n",
       "  </tbody>\n",
       "</table>\n",
       "</div>"
      ],
      "text/plain": [
       "                            Total   Percent\n",
       "Arrival Delay in Minutes      393  0.003026\n",
       "Gender                          0  0.000000\n",
       "Seat comfort                    0  0.000000\n",
       "Departure Delay in Minutes      0  0.000000\n",
       "Cleanliness                     0  0.000000"
      ]
     },
     "execution_count": 35,
     "metadata": {},
     "output_type": "execute_result"
    }
   ],
   "source": [
    "total = data_raw.isnull().sum().sort_values(ascending=False)\n",
    "percent = (data_raw.isnull().sum()/data_raw.isnull().count()).sort_values(ascending=False)\n",
    "missing = pd.concat([total, percent], axis=1, keys=['Total', 'Percent'])\n",
    "missing.head()"
   ]
  },
  {
   "cell_type": "markdown",
   "id": "7d414885",
   "metadata": {},
   "source": [
    "Заполним пропцущенные значения:"
   ]
  },
  {
   "cell_type": "code",
   "execution_count": 36,
   "id": "a9d30f2a",
   "metadata": {},
   "outputs": [],
   "source": [
    "data_raw['Arrival Delay in Minutes'].fillna(data_raw['Arrival Delay in Minutes'].median(axis = 0), axis=0 , inplace=True)"
   ]
  },
  {
   "cell_type": "markdown",
   "id": "a1a4d3a9",
   "metadata": {},
   "source": [
    "Приведем описание таблице ниже, которая описывает категориальные признаки. Здесь :\n",
    "- top - наиболее встречающееся значение;\n",
    "- freq - частота наиболее встречающегося значения;\n",
    "- count - количество значений;\n",
    "- unique - количество уникальных значений."
   ]
  },
  {
   "cell_type": "code",
   "execution_count": 37,
   "id": "3192602f",
   "metadata": {},
   "outputs": [
    {
     "data": {
      "text/html": [
       "<div>\n",
       "<style scoped>\n",
       "    .dataframe tbody tr th:only-of-type {\n",
       "        vertical-align: middle;\n",
       "    }\n",
       "\n",
       "    .dataframe tbody tr th {\n",
       "        vertical-align: top;\n",
       "    }\n",
       "\n",
       "    .dataframe thead th {\n",
       "        text-align: right;\n",
       "    }\n",
       "</style>\n",
       "<table border=\"1\" class=\"dataframe\">\n",
       "  <thead>\n",
       "    <tr style=\"text-align: right;\">\n",
       "      <th></th>\n",
       "      <th>Gender</th>\n",
       "      <th>Customer Type</th>\n",
       "      <th>Type of Travel</th>\n",
       "      <th>Class</th>\n",
       "      <th>Inflight wifi service</th>\n",
       "      <th>Departure/Arrival time convenient</th>\n",
       "      <th>Ease of Online booking</th>\n",
       "      <th>Gate location</th>\n",
       "      <th>Food and drink</th>\n",
       "      <th>Online boarding</th>\n",
       "      <th>Seat comfort</th>\n",
       "      <th>Inflight entertainment</th>\n",
       "      <th>On-board service</th>\n",
       "      <th>Leg room service</th>\n",
       "      <th>Baggage handling</th>\n",
       "      <th>Checkin service</th>\n",
       "      <th>Inflight service</th>\n",
       "      <th>Cleanliness</th>\n",
       "    </tr>\n",
       "  </thead>\n",
       "  <tbody>\n",
       "    <tr>\n",
       "      <th>count</th>\n",
       "      <td>129880</td>\n",
       "      <td>129880</td>\n",
       "      <td>129880</td>\n",
       "      <td>129880</td>\n",
       "      <td>129880</td>\n",
       "      <td>129880</td>\n",
       "      <td>129880</td>\n",
       "      <td>129880</td>\n",
       "      <td>129880</td>\n",
       "      <td>129880</td>\n",
       "      <td>129880</td>\n",
       "      <td>129880</td>\n",
       "      <td>129880</td>\n",
       "      <td>129880</td>\n",
       "      <td>129880</td>\n",
       "      <td>129880</td>\n",
       "      <td>129880</td>\n",
       "      <td>129880</td>\n",
       "    </tr>\n",
       "    <tr>\n",
       "      <th>unique</th>\n",
       "      <td>2</td>\n",
       "      <td>2</td>\n",
       "      <td>2</td>\n",
       "      <td>3</td>\n",
       "      <td>6</td>\n",
       "      <td>6</td>\n",
       "      <td>6</td>\n",
       "      <td>6</td>\n",
       "      <td>6</td>\n",
       "      <td>6</td>\n",
       "      <td>6</td>\n",
       "      <td>6</td>\n",
       "      <td>6</td>\n",
       "      <td>6</td>\n",
       "      <td>5</td>\n",
       "      <td>6</td>\n",
       "      <td>6</td>\n",
       "      <td>6</td>\n",
       "    </tr>\n",
       "    <tr>\n",
       "      <th>top</th>\n",
       "      <td>Female</td>\n",
       "      <td>Loyal Customer</td>\n",
       "      <td>Business travel</td>\n",
       "      <td>Business</td>\n",
       "      <td>2</td>\n",
       "      <td>4</td>\n",
       "      <td>3</td>\n",
       "      <td>3</td>\n",
       "      <td>4</td>\n",
       "      <td>4</td>\n",
       "      <td>4</td>\n",
       "      <td>4</td>\n",
       "      <td>4</td>\n",
       "      <td>4</td>\n",
       "      <td>4</td>\n",
       "      <td>4</td>\n",
       "      <td>4</td>\n",
       "      <td>4</td>\n",
       "    </tr>\n",
       "    <tr>\n",
       "      <th>freq</th>\n",
       "      <td>65899</td>\n",
       "      <td>106100</td>\n",
       "      <td>89693</td>\n",
       "      <td>62160</td>\n",
       "      <td>32320</td>\n",
       "      <td>31880</td>\n",
       "      <td>30393</td>\n",
       "      <td>35717</td>\n",
       "      <td>30563</td>\n",
       "      <td>38468</td>\n",
       "      <td>39756</td>\n",
       "      <td>36791</td>\n",
       "      <td>38703</td>\n",
       "      <td>35886</td>\n",
       "      <td>46761</td>\n",
       "      <td>36333</td>\n",
       "      <td>47323</td>\n",
       "      <td>33969</td>\n",
       "    </tr>\n",
       "  </tbody>\n",
       "</table>\n",
       "</div>"
      ],
      "text/plain": [
       "        Gender   Customer Type   Type of Travel     Class  \\\n",
       "count   129880          129880           129880    129880   \n",
       "unique       2               2                2         3   \n",
       "top     Female  Loyal Customer  Business travel  Business   \n",
       "freq     65899          106100            89693     62160   \n",
       "\n",
       "        Inflight wifi service  Departure/Arrival time convenient  \\\n",
       "count                  129880                             129880   \n",
       "unique                      6                                  6   \n",
       "top                         2                                  4   \n",
       "freq                    32320                              31880   \n",
       "\n",
       "        Ease of Online booking  Gate location  Food and drink  \\\n",
       "count                   129880         129880          129880   \n",
       "unique                       6              6               6   \n",
       "top                          3              3               4   \n",
       "freq                     30393          35717           30563   \n",
       "\n",
       "        Online boarding  Seat comfort  Inflight entertainment  \\\n",
       "count            129880        129880                  129880   \n",
       "unique                6             6                       6   \n",
       "top                   4             4                       4   \n",
       "freq              38468         39756                   36791   \n",
       "\n",
       "        On-board service  Leg room service  Baggage handling  Checkin service  \\\n",
       "count             129880            129880            129880           129880   \n",
       "unique                 6                 6                 5                6   \n",
       "top                    4                 4                 4                4   \n",
       "freq               38703             35886             46761            36333   \n",
       "\n",
       "        Inflight service  Cleanliness  \n",
       "count             129880       129880  \n",
       "unique                 6            6  \n",
       "top                    4            4  \n",
       "freq               47323        33969  "
      ]
     },
     "execution_count": 37,
     "metadata": {},
     "output_type": "execute_result"
    }
   ],
   "source": [
    "data_describe = data_raw.describe(include=['category'])\n",
    "data_describe"
   ]
  },
  {
   "cell_type": "markdown",
   "id": "b030267e",
   "metadata": {},
   "source": [
    "Видно, что есть признаки, которые небинарные, поэтому проведём обработку категориальных значений.\n",
    "## Обработка категориальных признаков"
   ]
  },
  {
   "cell_type": "code",
   "execution_count": 38,
   "id": "600fe254",
   "metadata": {},
   "outputs": [
    {
     "data": {
      "text/plain": [
       "['Gender',\n",
       " 'Customer Type',\n",
       " 'Type of Travel',\n",
       " 'Class',\n",
       " 'Inflight wifi service',\n",
       " 'Departure/Arrival time convenient',\n",
       " 'Ease of Online booking',\n",
       " 'Gate location',\n",
       " 'Food and drink',\n",
       " 'Online boarding',\n",
       " 'Seat comfort',\n",
       " 'Inflight entertainment',\n",
       " 'On-board service',\n",
       " 'Leg room service',\n",
       " 'Baggage handling',\n",
       " 'Checkin service',\n",
       " 'Inflight service',\n",
       " 'Cleanliness']"
      ]
     },
     "execution_count": 38,
     "metadata": {},
     "output_type": "execute_result"
    }
   ],
   "source": [
    "categ_columns = [c for c in data_raw.columns if data_raw[c].dtype.name == 'category']\n",
    "categ_columns"
   ]
  },
  {
   "cell_type": "markdown",
   "id": "19ddba6b",
   "metadata": {},
   "source": [
    "Рассмотрим бинарные признаки:"
   ]
  },
  {
   "cell_type": "code",
   "execution_count": 39,
   "id": "14d297a4",
   "metadata": {},
   "outputs": [],
   "source": [
    "categorical_columns = [c for c in data_raw.columns if data_raw[c].dtype.name == 'category']; describe = data_raw.describe(include=['category'])"
   ]
  },
  {
   "cell_type": "code",
   "execution_count": 40,
   "id": "d0e8eaa2",
   "metadata": {},
   "outputs": [],
   "source": [
    "data_raw.update({col: data_raw[col].cat.codes for col in categ_columns if describe[col]['unique'] == 2})"
   ]
  },
  {
   "cell_type": "markdown",
   "id": "9ba39e8f",
   "metadata": {},
   "source": [
    "Рассмотри небинарные признаки: "
   ]
  },
  {
   "cell_type": "code",
   "execution_count": 41,
   "id": "23ce8839",
   "metadata": {},
   "outputs": [],
   "source": [
    "nonbinary_columns = [c for c in categorical_columns if data_describe[c]['unique'] > 2]\n",
    "nonbinary = pd.get_dummies(data_raw[nonbinary_columns])"
   ]
  },
  {
   "cell_type": "markdown",
   "id": "4d98a3b5",
   "metadata": {},
   "source": [
    "##  Визуализировать данные и вычислить основные характеристики (среднее, разброс, корреляционную матрицу и т.д.). Интерпретировать."
   ]
  },
  {
   "cell_type": "code",
   "execution_count": 42,
   "id": "2b8b072a",
   "metadata": {},
   "outputs": [
    {
     "data": {
      "image/png": "[encoded data removed]",
      "text/plain": [
       "<Figure size 432x288 with 2 Axes>"
      ]
     },
     "metadata": {
      "needs_background": "light"
     },
     "output_type": "display_data"
    }
   ],
   "source": [
    "corr_mat = data_raw.corr()\n",
    "sns.heatmap(corr_mat, square=True, annot=True, cmap='coolwarm', vmin=-1.0, vmax=1.0)\n",
    "pass"
   ]
  },
  {
   "cell_type": "code",
   "execution_count": 43,
   "id": "b5a5e789",
   "metadata": {},
   "outputs": [],
   "source": [
    "corr_mat = data_raw.corr()"
   ]
  },
  {
   "cell_type": "code",
   "execution_count": 44,
   "id": "ec4dbe68",
   "metadata": {
    "scrolled": true
   },
   "outputs": [],
   "source": [
    "#corr_mat - Если захочется вывести отдельно в табличке"
   ]
  },
  {
   "cell_type": "markdown",
   "id": "9b2dc6ae",
   "metadata": {},
   "source": [
    "__Вывод__: Между признаками \"Departure Delay in Minutes\" и  \"Arrival Delay in Minutes\" высокая корреляция.\n",
    "Можно удалить один признак из пары сильно коррелирующих признаков для того, чтобы уменьшить число рассматриваемых признаков. То есть можно удалить признак Arrival Delay in Minutes."
   ]
  },
  {
   "cell_type": "code",
   "execution_count": 45,
   "id": "1bb9fd61",
   "metadata": {},
   "outputs": [],
   "source": [
    "data_raw.drop(\"Arrival Delay in Minutes\", axis =1, inplace= True)"
   ]
  },
  {
   "cell_type": "markdown",
   "id": "ba909bf6",
   "metadata": {},
   "source": [
    "## Провести нормализацию\n",
    "\n",
    "Некоторые алгоритмы машинного обучения чувствительны к масштабированию данных,например, метод ближайших соседей, метод опорных векторов и т.д."
   ]
  },
  {
   "cell_type": "code",
   "execution_count": 46,
   "id": "7cdfa138",
   "metadata": {},
   "outputs": [],
   "source": [
    "num_columns = [c for c in data_raw.columns if data_raw[c].dtype.name != 'category' and c != 'satisfaction' ]\n",
    "data_numerical = data_raw[num_columns]"
   ]
  },
  {
   "cell_type": "code",
   "execution_count": 47,
   "id": "6b8da118",
   "metadata": {},
   "outputs": [
    {
     "data": {
      "text/html": [
       "<div>\n",
       "<style scoped>\n",
       "    .dataframe tbody tr th:only-of-type {\n",
       "        vertical-align: middle;\n",
       "    }\n",
       "\n",
       "    .dataframe tbody tr th {\n",
       "        vertical-align: top;\n",
       "    }\n",
       "\n",
       "    .dataframe thead th {\n",
       "        text-align: right;\n",
       "    }\n",
       "</style>\n",
       "<table border=\"1\" class=\"dataframe\">\n",
       "  <thead>\n",
       "    <tr style=\"text-align: right;\">\n",
       "      <th></th>\n",
       "      <th>Age</th>\n",
       "      <th>Flight Distance</th>\n",
       "      <th>Departure Delay in Minutes</th>\n",
       "    </tr>\n",
       "  </thead>\n",
       "  <tbody>\n",
       "    <tr>\n",
       "      <th>count</th>\n",
       "      <td>1.298800e+05</td>\n",
       "      <td>1.298800e+05</td>\n",
       "      <td>1.298800e+05</td>\n",
       "    </tr>\n",
       "    <tr>\n",
       "      <th>mean</th>\n",
       "      <td>-4.589714e-17</td>\n",
       "      <td>1.778554e-16</td>\n",
       "      <td>-4.394245e-16</td>\n",
       "    </tr>\n",
       "    <tr>\n",
       "      <th>std</th>\n",
       "      <td>1.000000e+00</td>\n",
       "      <td>1.000000e+00</td>\n",
       "      <td>1.000000e+00</td>\n",
       "    </tr>\n",
       "    <tr>\n",
       "      <th>min</th>\n",
       "      <td>-2.144797e+00</td>\n",
       "      <td>-1.162277e+00</td>\n",
       "      <td>-3.864796e-01</td>\n",
       "    </tr>\n",
       "    <tr>\n",
       "      <th>25%</th>\n",
       "      <td>-8.219896e-01</td>\n",
       "      <td>-7.782991e-01</td>\n",
       "      <td>-3.864796e-01</td>\n",
       "    </tr>\n",
       "    <tr>\n",
       "      <th>50%</th>\n",
       "      <td>3.783516e-02</td>\n",
       "      <td>-3.472009e-01</td>\n",
       "      <td>-3.864796e-01</td>\n",
       "    </tr>\n",
       "    <tr>\n",
       "      <th>75%</th>\n",
       "      <td>7.653792e-01</td>\n",
       "      <td>5.550977e-01</td>\n",
       "      <td>-7.128007e-02</td>\n",
       "    </tr>\n",
       "    <tr>\n",
       "      <th>max</th>\n",
       "      <td>3.014152e+00</td>\n",
       "      <td>3.802370e+00</td>\n",
       "      <td>4.142999e+01</td>\n",
       "    </tr>\n",
       "  </tbody>\n",
       "</table>\n",
       "</div>"
      ],
      "text/plain": [
       "                Age  Flight Distance  Departure Delay in Minutes\n",
       "count  1.298800e+05     1.298800e+05                1.298800e+05\n",
       "mean  -4.589714e-17     1.778554e-16               -4.394245e-16\n",
       "std    1.000000e+00     1.000000e+00                1.000000e+00\n",
       "min   -2.144797e+00    -1.162277e+00               -3.864796e-01\n",
       "25%   -8.219896e-01    -7.782991e-01               -3.864796e-01\n",
       "50%    3.783516e-02    -3.472009e-01               -3.864796e-01\n",
       "75%    7.653792e-01     5.550977e-01               -7.128007e-02\n",
       "max    3.014152e+00     3.802370e+00                4.142999e+01"
      ]
     },
     "execution_count": 47,
     "metadata": {},
     "output_type": "execute_result"
    }
   ],
   "source": [
    "data_raw[num_columns] = (data_raw[num_columns] - data_raw[num_columns].mean(axis = 0))/data_raw[num_columns].std(axis = 0)\n",
    "data_raw.describe()"
   ]
  },
  {
   "cell_type": "markdown",
   "id": "d587318a",
   "metadata": {},
   "source": [
    "Соберём все данные:"
   ]
  },
  {
   "cell_type": "code",
   "execution_count": 48,
   "id": "ac4aa160",
   "metadata": {},
   "outputs": [],
   "source": [
    "Y= data_raw['satisfaction']"
   ]
  },
  {
   "cell_type": "code",
   "execution_count": 49,
   "id": "24f3b406",
   "metadata": {},
   "outputs": [],
   "source": [
    "binary_columns = [c for c in categorical_columns if data_describe[c]['unique'] == 2]\n",
    "data_raw = pd.concat((data_raw[num_columns], nonbinary, data_raw[binary_columns]), axis = 1)"
   ]
  },
  {
   "cell_type": "markdown",
   "id": "8abf5ae8",
   "metadata": {},
   "source": [
    "## Разбить данные на обучающую и тестовую выборки"
   ]
  },
  {
   "cell_type": "code",
   "execution_count": 50,
   "id": "4a638890",
   "metadata": {},
   "outputs": [],
   "source": [
    "X = data_raw"
   ]
  },
  {
   "cell_type": "code",
   "execution_count": 51,
   "id": "87cf0a57",
   "metadata": {},
   "outputs": [
    {
     "data": {
      "text/plain": [
       "Index(['Gender', 'Customer Type', 'Age', 'Type of Travel', 'Flight Distance',\n",
       "       'Departure Delay in Minutes', 'Class_Business', 'Class_Eco',\n",
       "       'Class_Eco Plus', 'Inflight wifi service_0', 'Inflight wifi service_1',\n",
       "       'Inflight wifi service_2', 'Inflight wifi service_3',\n",
       "       'Inflight wifi service_4', 'Inflight wifi service_5',\n",
       "       'Departure/Arrival time convenient_0',\n",
       "       'Departure/Arrival time convenient_1',\n",
       "       'Departure/Arrival time convenient_2',\n",
       "       'Departure/Arrival time convenient_3',\n",
       "       'Departure/Arrival time convenient_4',\n",
       "       'Departure/Arrival time convenient_5', 'Ease of Online booking_0',\n",
       "       'Ease of Online booking_1', 'Ease of Online booking_2',\n",
       "       'Ease of Online booking_3', 'Ease of Online booking_4',\n",
       "       'Ease of Online booking_5', 'Gate location_0', 'Gate location_1',\n",
       "       'Gate location_2', 'Gate location_3', 'Gate location_4',\n",
       "       'Gate location_5', 'Food and drink_0', 'Food and drink_1',\n",
       "       'Food and drink_2', 'Food and drink_3', 'Food and drink_4',\n",
       "       'Food and drink_5', 'Online boarding_0', 'Online boarding_1',\n",
       "       'Online boarding_2', 'Online boarding_3', 'Online boarding_4',\n",
       "       'Online boarding_5', 'Seat comfort_0', 'Seat comfort_1',\n",
       "       'Seat comfort_2', 'Seat comfort_3', 'Seat comfort_4', 'Seat comfort_5',\n",
       "       'Inflight entertainment_0', 'Inflight entertainment_1',\n",
       "       'Inflight entertainment_2', 'Inflight entertainment_3',\n",
       "       'Inflight entertainment_4', 'Inflight entertainment_5',\n",
       "       'On-board service_0', 'On-board service_1', 'On-board service_2',\n",
       "       'On-board service_3', 'On-board service_4', 'On-board service_5',\n",
       "       'Leg room service_0', 'Leg room service_1', 'Leg room service_2',\n",
       "       'Leg room service_3', 'Leg room service_4', 'Leg room service_5',\n",
       "       'Baggage handling_1', 'Baggage handling_2', 'Baggage handling_3',\n",
       "       'Baggage handling_4', 'Baggage handling_5', 'Checkin service_0',\n",
       "       'Checkin service_1', 'Checkin service_2', 'Checkin service_3',\n",
       "       'Checkin service_4', 'Checkin service_5', 'Inflight service_0',\n",
       "       'Inflight service_1', 'Inflight service_2', 'Inflight service_3',\n",
       "       'Inflight service_4', 'Inflight service_5', 'Cleanliness_0',\n",
       "       'Cleanliness_1', 'Cleanliness_2', 'Cleanliness_3', 'Cleanliness_4',\n",
       "       'Cleanliness_5', 'Gender', 'Customer Type', 'Type of Travel'],\n",
       "      dtype='object')"
      ]
     },
     "execution_count": 51,
     "metadata": {},
     "output_type": "execute_result"
    }
   ],
   "source": [
    "X.columns"
   ]
  },
  {
   "cell_type": "code",
   "execution_count": 52,
   "id": "0968ce8e",
   "metadata": {},
   "outputs": [],
   "source": [
    "from sklearn.model_selection import train_test_split\n",
    "X_train, X_test, y_train, y_test = train_test_split(X, Y, test_size = 0.25, random_state = 555)\n",
    "\n",
    "N_train, _ = X_train.shape \n",
    "N_test,  _ = X_test.shape "
   ]
  },
  {
   "cell_type": "code",
   "execution_count": 53,
   "id": "54f42ba3",
   "metadata": {},
   "outputs": [
    {
     "name": "stdout",
     "output_type": "stream",
     "text": [
      "97410 32470\n"
     ]
    }
   ],
   "source": [
    "print(N_train, N_test)"
   ]
  },
  {
   "cell_type": "markdown",
   "id": "ca62e761",
   "metadata": {},
   "source": [
    "## Запустить классификатор (регрессию) ближайших соседей"
   ]
  },
  {
   "cell_type": "code",
   "execution_count": 173,
   "id": "b7ca07ed",
   "metadata": {},
   "outputs": [
    {
     "data": {
      "text/plain": [
       "KNeighborsClassifier()"
      ]
     },
     "execution_count": 173,
     "metadata": {},
     "output_type": "execute_result"
    }
   ],
   "source": [
    "from sklearn.neighbors import KNeighborsClassifier\n",
    "\n",
    "knn = KNeighborsClassifier(n_neighbors = 5)\n",
    "knn.fit(X_train, y_train)"
   ]
  },
  {
   "cell_type": "code",
   "execution_count": 179,
   "id": "1787dc71",
   "metadata": {},
   "outputs": [
    {
     "name": "stdout",
     "output_type": "stream",
     "text": [
      "0.0641720562570578\n",
      "7\n"
     ]
    }
   ],
   "source": [
    "search = GridSearchCV(KNeighborsClassifier(), param_grid = {'n_neighbors': range(1, 21)}, cv = 5).fit(X_train, y_train)\n",
    "\n",
    "print(1 - search.best_score_)\n",
    "print( search.best_estimator_.n_neighbors)"
   ]
  },
  {
   "cell_type": "code",
   "execution_count": 181,
   "id": "b8667631",
   "metadata": {},
   "outputs": [],
   "source": [
    "from sklearn.neighbors import KNeighborsClassifier\n",
    "from sklearn.metrics import confusion_matrix, ConfusionMatrixDisplay, classification_report\n",
    "\n",
    "kNNf = KNeighborsClassifier()\n",
    "kNNf.n_neighbors = search.best_estimator_.n_neighbors\n",
    "kNNf.fit(X_train, y_train)\n",
    "\n",
    "y_train_prediction = kNNf.predict(X_train)\n",
    "y_test_prediction = kNNf.predict(X_test)\n",
    "cm = confusion_matrix(y_train, y_train_prediction)\n",
    "     "
   ]
  },
  {
   "cell_type": "code",
   "execution_count": 182,
   "id": "8cff7463",
   "metadata": {},
   "outputs": [
    {
     "data": {
      "text/plain": [
       "<sklearn.metrics._plot.confusion_matrix.ConfusionMatrixDisplay at 0x1ac0844e400>"
      ]
     },
     "execution_count": 182,
     "metadata": {},
     "output_type": "execute_result"
    },
    {
     "data": {
      "image/png": "[encoded data removed]",
      "text/plain": [
       "<Figure size 432x288 with 2 Axes>"
      ]
     },
     "metadata": {
      "needs_background": "light"
     },
     "output_type": "display_data"
    }
   ],
   "source": [
    "disp = ConfusionMatrixDisplay(confusion_matrix=cm, display_labels=kNNf.classes_)\n",
    "disp.plot()"
   ]
  },
  {
   "cell_type": "code",
   "execution_count": 183,
   "id": "e16d690e",
   "metadata": {},
   "outputs": [
    {
     "name": "stdout",
     "output_type": "stream",
     "text": [
      "                         precision    recall  f1-score   support\n",
      "\n",
      "neutral or dissatisfied       0.94      0.96      0.95     18226\n",
      "              satisfied       0.94      0.92      0.93     14244\n",
      "\n",
      "               accuracy                           0.94     32470\n",
      "              macro avg       0.94      0.94      0.94     32470\n",
      "           weighted avg       0.94      0.94      0.94     32470\n",
      "\n"
     ]
    }
   ],
   "source": [
    "print(classification_report(y_test, y_test_prediction))"
   ]
  },
  {
   "cell_type": "code",
   "execution_count": 186,
   "id": "307405ea",
   "metadata": {},
   "outputs": [],
   "source": [
    "err_train = np.mean(y_train != kNNf.predict(X_train))\n",
    "err_test  = np.mean(y_test  != kNNf.predict(X_test))"
   ]
  },
  {
   "cell_type": "code",
   "execution_count": 187,
   "id": "91557496",
   "metadata": {},
   "outputs": [
    {
     "name": "stdout",
     "output_type": "stream",
     "text": [
      "0.048105943948259934 0.06033261472128118\n"
     ]
    }
   ],
   "source": [
    "print(err_train, err_test)"
   ]
  },
  {
   "cell_type": "code",
   "execution_count": 184,
   "id": "d0703ad8",
   "metadata": {},
   "outputs": [
    {
     "name": "stdout",
     "output_type": "stream",
     "text": [
      "0.0 0.035756082537727135\n"
     ]
    }
   ],
   "source": [
    "from sklearn import ensemble\n",
    "rf = ensemble.RandomForestClassifier(n_estimators = 1000)\n",
    "rf.fit(X_train, y_train)\n",
    "\n",
    "err_train = np.mean(y_train != rf.predict(X_train))\n",
    "err_test  = np.mean(y_test  != rf.predict(X_test))\n",
    "\n",
    "print(err_train, err_test)"
   ]
  },
  {
   "cell_type": "markdown",
   "id": "9ad126bb",
   "metadata": {},
   "source": [
    "__ВЫВОД:__\n",
    "\n",
    "-Безусловно алгоритм Random Forest, чем метод ближайших соседей;\n",
    "\n",
    "-0.0 ошибка на обучающей выборке, и  0.035756082537727135 ошибка на тестовой выборке при методе random forest; а у knn - 0.06033261472128118"
   ]
  },
  {
   "cell_type": "markdown",
   "id": "17b7d863",
   "metadata": {},
   "source": [
    "__Домашняя работа на 28.12.23__\n",
    "\n",
    "\n",
    "\n"
   ]
  },
  {
   "cell_type": "markdown",
   "id": "b8c80619",
   "metadata": {},
   "source": [
    "Сделаем подбор гиперпараметра \"alfa\""
   ]
  },
  {
   "cell_type": "code",
   "execution_count": 55,
   "id": "b3692026",
   "metadata": {},
   "outputs": [],
   "source": [
    "alpha_arr = np.logspace(-3, 2, 21)\n",
    "test_err = []\n",
    "train_err = []\n",
    "train_acc = []\n",
    "test_acc = []\n",
    "\n",
    "for alpha in alpha_arr:\n",
    "    mlp_model = MLPClassifier(alpha = alpha, hidden_layer_sizes = (3,), \n",
    "                              solver = 'lbfgs', activation = 'logistic', max_iter=1000, random_state = 42)\n",
    "    mlp_model.fit(X_train, y_train)\n",
    "\n",
    "    y_train_pred = mlp_model.predict(X_train)\n",
    "    y_test_pred = mlp_model.predict(X_test)\n",
    "    \n",
    "    train_err.append(np.mean(y_train != y_train_pred))\n",
    "    test_err.append(np.mean(y_test != y_test_pred))\n",
    "    train_acc.append(accuracy_score(y_train, y_train_pred))\n",
    "    test_acc.append(accuracy_score(y_test, y_test_pred))"
   ]
  },
  {
   "cell_type": "code",
   "execution_count": 56,
   "id": "69d6e0ea",
   "metadata": {},
   "outputs": [
    {
     "data": {
      "image/png": "[encoded data removed]",
      "text/plain": [
       "<Figure size 432x288 with 1 Axes>"
      ]
     },
     "metadata": {
      "needs_background": "light"
     },
     "output_type": "display_data"
    }
   ],
   "source": [
    "plt.semilogx(alpha_arr, train_err, 'b-o', label = 'train')\n",
    "plt.semilogx(alpha_arr, test_err, 'r-o', label = 'test')\n",
    "plt.xlim([np.min(alpha_arr), np.max(alpha_arr)])\n",
    "plt.title('Error vs. alpha')\n",
    "plt.xlabel('Alpha')\n",
    "plt.ylabel('Error')\n",
    "plt.legend()\n",
    "pass"
   ]
  },
  {
   "cell_type": "code",
   "execution_count": 57,
   "id": "2f345273",
   "metadata": {},
   "outputs": [
    {
     "data": {
      "text/plain": [
       "<matplotlib.legend.Legend at 0x212616344f0>"
      ]
     },
     "execution_count": 57,
     "metadata": {},
     "output_type": "execute_result"
    },
    {
     "data": {
      "image/png": "[encoded data removed]",
      "text/plain": [
       "<Figure size 432x288 with 1 Axes>"
      ]
     },
     "metadata": {
      "needs_background": "light"
     },
     "output_type": "display_data"
    }
   ],
   "source": [
    "plt.semilogx(alpha_arr, train_acc, 'r-o', label = 'train')\n",
    "plt.semilogx(alpha_arr, test_acc, 'b-o', label = 'test')\n",
    "plt.xlim([np.min(alpha_arr), np.max(alpha_arr)])\n",
    "plt.title('Accuracy vs. alpha')\n",
    "plt.xlabel('alpha')\n",
    "plt.ylabel('Accuracy')\n",
    "plt.legend()"
   ]
  },
  {
   "cell_type": "code",
   "execution_count": 59,
   "id": "3b75b71b",
   "metadata": {},
   "outputs": [
    {
     "name": "stdout",
     "output_type": "stream",
     "text": [
      "Минимальная ошибка train:  0.04205933682373473\n",
      "Минимальная ошибка test:  0.04219279334770557\n"
     ]
    }
   ],
   "source": [
    "min_train_err = np.min(train_err)\n",
    "min_test_err = np.min(test_err)\n",
    "print('Минимальная ошибка train: ', min_train_err)\n",
    "print('Минимальная ошибка test: ', min_test_err)"
   ]
  },
  {
   "cell_type": "code",
   "execution_count": 62,
   "id": "2f3613e1",
   "metadata": {},
   "outputs": [],
   "source": [
    "alpha_opt = alpha_arr[test_err == min_test_err][0]\n"
   ]
  },
  {
   "cell_type": "code",
   "execution_count": 78,
   "id": "31bde524",
   "metadata": {},
   "outputs": [
    {
     "data": {
      "text/plain": [
       "1.7782794100389228"
      ]
     },
     "execution_count": 78,
     "metadata": {},
     "output_type": "execute_result"
    }
   ],
   "source": [
    "alpha_opt"
   ]
  },
  {
   "cell_type": "code",
   "execution_count": 66,
   "id": "f268ff2c",
   "metadata": {},
   "outputs": [
    {
     "name": "stdout",
     "output_type": "stream",
     "text": [
      "0.04205933682373473\n",
      "0.04219279334770557\n"
     ]
    }
   ],
   "source": [
    "mlp_model = MLPClassifier(alpha = alpha_opt, hidden_layer_sizes = (3,),\n",
    "                          solver = 'lbfgs', activation = 'logistic', random_state = 42)\n",
    "mlp_model.fit(X_train, y_train)\n",
    "\n",
    "y_train_pred = mlp_model.predict(X_train)\n",
    "y_test_pred = mlp_model.predict(X_test)\n",
    "print(np.mean(y_train != y_train_pred))\n",
    "print(np.mean(y_test != y_test_pred))"
   ]
  },
  {
   "cell_type": "code",
   "execution_count": 64,
   "id": "4c7ba6f6",
   "metadata": {},
   "outputs": [
    {
     "name": "stdout",
     "output_type": "stream",
     "text": [
      "[[17848   992]\n",
      " [  378 13252]]\n"
     ]
    }
   ],
   "source": [
    "print(confusion_matrix(y_test_pred, y_test))"
   ]
  },
  {
   "cell_type": "code",
   "execution_count": 65,
   "id": "85f6b896",
   "metadata": {},
   "outputs": [
    {
     "data": {
      "text/plain": [
       "<sklearn.metrics._plot.confusion_matrix.ConfusionMatrixDisplay at 0x2126665b8b0>"
      ]
     },
     "execution_count": 65,
     "metadata": {},
     "output_type": "execute_result"
    },
    {
     "data": {
      "image/png": "[encoded data removed]",
      "text/plain": [
       "<Figure size 432x288 with 2 Axes>"
      ]
     },
     "metadata": {
      "needs_background": "light"
     },
     "output_type": "display_data"
    }
   ],
   "source": [
    "plot_confusion_matrix(mlp_model, X_test, y_test) "
   ]
  },
  {
   "cell_type": "code",
   "execution_count": 68,
   "id": "97d340ee",
   "metadata": {},
   "outputs": [],
   "source": [
    "from sklearn.metrics import classification_report"
   ]
  },
  {
   "cell_type": "code",
   "execution_count": 69,
   "id": "194100ab",
   "metadata": {},
   "outputs": [
    {
     "name": "stdout",
     "output_type": "stream",
     "text": [
      "                         precision    recall  f1-score   support\n",
      "\n",
      "neutral or dissatisfied       0.95      0.98      0.96     18226\n",
      "              satisfied       0.97      0.93      0.95     14244\n",
      "\n",
      "               accuracy                           0.96     32470\n",
      "              macro avg       0.96      0.95      0.96     32470\n",
      "           weighted avg       0.96      0.96      0.96     32470\n",
      "\n"
     ]
    }
   ],
   "source": [
    "print(classification_report(y_test, y_test_pred))"
   ]
  },
  {
   "cell_type": "code",
   "execution_count": 73,
   "id": "000cd342",
   "metadata": {},
   "outputs": [
    {
     "data": {
      "text/plain": [
       "LogisticRegression(random_state=42, solver='newton-cg')"
      ]
     },
     "execution_count": 73,
     "metadata": {},
     "output_type": "execute_result"
    }
   ],
   "source": [
    "from sklearn.linear_model import LogisticRegression\n",
    "model_lr = LogisticRegression(random_state = 42,solver = 'newton-cg')\n",
    "model_lr.fit(X_train, y_train)"
   ]
  },
  {
   "cell_type": "code",
   "execution_count": 74,
   "id": "a28fcd3d",
   "metadata": {},
   "outputs": [
    {
     "data": {
      "text/plain": [
       "<sklearn.metrics._plot.confusion_matrix.ConfusionMatrixDisplay at 0x21262561a90>"
      ]
     },
     "execution_count": 74,
     "metadata": {},
     "output_type": "execute_result"
    },
    {
     "data": {
      "image/png": "[encoded data removed]",
      "text/plain": [
       "<Figure size 432x288 with 2 Axes>"
      ]
     },
     "metadata": {
      "needs_background": "light"
     },
     "output_type": "display_data"
    }
   ],
   "source": [
    "plot_confusion_matrix(model_lr, X_test, y_test) "
   ]
  },
  {
   "cell_type": "code",
   "execution_count": 75,
   "id": "74f4e7fa",
   "metadata": {},
   "outputs": [
    {
     "name": "stdout",
     "output_type": "stream",
     "text": [
      "0.06663586900728878\n",
      "0.06698490914690483\n"
     ]
    }
   ],
   "source": [
    "y_train_pred = model_lr.predict(X_train)\n",
    "y_test_pred = model_lr.predict(X_test)\n",
    "print(np.mean(y_train != y_train_pred))\n",
    "print(np.mean(y_test != y_test_pred))"
   ]
  },
  {
   "cell_type": "code",
   "execution_count": 76,
   "id": "c717d02b",
   "metadata": {},
   "outputs": [
    {
     "name": "stdout",
     "output_type": "stream",
     "text": [
      "                         precision    recall  f1-score   support\n",
      "\n",
      "neutral or dissatisfied       0.93      0.95      0.94     18226\n",
      "              satisfied       0.93      0.91      0.92     14244\n",
      "\n",
      "               accuracy                           0.93     32470\n",
      "              macro avg       0.93      0.93      0.93     32470\n",
      "           weighted avg       0.93      0.93      0.93     32470\n",
      "\n"
     ]
    }
   ],
   "source": [
    "print(classification_report(y_test, y_test_pred))"
   ]
  },
  {
   "cell_type": "markdown",
   "id": "1daa5c41",
   "metadata": {},
   "source": [
    "__Вывод__:Данная задача достаточно классифицируется с текущим набором параметров и с выбранными классами классификации. \n",
    "Поскольку обучение нейронных сетей зависит от количества входных данных, то при увеличении обучающей выборке может быть получены результат, лучший предыдущего.\n",
    "Перебор гиперпараметров осуществлялся в узком диапазоне, поэтому при его увеличении может быть достигнуа меньшая ошибка."
   ]
  },
  {
   "cell_type": "markdown",
   "id": "7ec31105",
   "metadata": {},
   "source": [
    "Наименьшая ошибка была достигнута при параметре alpha ≈ 1.778279"
   ]
  },
  {
   "cell_type": "code",
   "execution_count": null,
   "id": "5dc04d7a",
   "metadata": {},
   "outputs": [],
   "source": []
  }
 ],
 "metadata": {
  "kernelspec": {
   "display_name": "Python 3",
   "language": "python",
   "name": "python3"
  },
  "language_info": {
   "codemirror_mode": {
    "name": "ipython",
    "version": 3
   },
   "file_extension": ".py",
   "mimetype": "text/x-python",
   "name": "python",
   "nbconvert_exporter": "python",
   "pygments_lexer": "ipython3",
   "version": "3.8.8"
  }
 },
 "nbformat": 4,
 "nbformat_minor": 5
}
